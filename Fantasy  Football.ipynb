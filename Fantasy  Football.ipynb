{
 "cells": [
  {
   "cell_type": "code",
   "execution_count": 73,
   "metadata": {
    "scrolled": true
   },
   "outputs": [
    {
     "name": "stdout",
     "output_type": "stream",
     "text": [
      "['elements', 'total-players', 'player', 'element_types', 'watched', 'next-event', 'phases', 'stats', 'game-settings', 'current-event', 'teams', 'stats_options', 'last-entry-event', 'entry', 'next_event_fixtures', 'events']\n",
      "Columns:\n",
      " ['assists', 'bonus', 'bps', 'chance_of_playing_next_round', 'chance_of_playing_this_round', 'clean_sheets', 'code', 'cost_change_event', 'cost_change_event_fall', 'cost_change_start', 'cost_change_start_fall', 'creativity', 'dreamteam_count', 'ea_index', 'element_type', 'ep_next', 'ep_this', 'event_points', 'first_name', 'form', 'goals_conceded', 'goals_scored', 'ict_index', 'id', 'in_dreamteam', 'influence', 'loaned_in', 'loaned_out', 'loans_in', 'loans_out', 'minutes', 'news', 'news_added', 'now_cost', 'own_goals', 'penalties_missed', 'penalties_saved', 'photo', 'points_per_game', 'red_cards', 'saves', 'second_name', 'selected_by_percent', 'special', 'squad_number', 'status', 'team', 'team_code', 'threat', 'total_points', 'transfers_in', 'transfers_in_event', 'transfers_out', 'transfers_out_event', 'value_form', 'value_season', 'web_name', 'yellow_cards'] \n",
      "\n",
      "Dataframe Head:\n",
      "    assists  bonus  bps  chance_of_playing_next_round  \\\n",
      "0        0      3  130                         100.0   \n",
      "1        0      2  280                           NaN   \n",
      "2        0      3  115                         100.0   \n",
      "3        5      5  304                           0.0   \n",
      "4        2      3  166                         100.0   \n",
      "\n",
      "   chance_of_playing_this_round  clean_sheets   code  cost_change_event  \\\n",
      "0                         100.0             1  11334                  0   \n",
      "1                           NaN             2  80201                  0   \n",
      "2                         100.0             1  51507                  0   \n",
      "3                         100.0             4  98745                  0   \n",
      "4                         100.0             2  38411                  0   \n",
      "\n",
      "   cost_change_event_fall  cost_change_start     ...       threat  \\\n",
      "0                       0                 -2     ...          0.0   \n",
      "1                       0                 -2     ...          0.0   \n",
      "2                       0                 -1     ...         45.0   \n",
      "3                       0                 -1     ...        280.0   \n",
      "4                       0                 -1     ...        163.0   \n",
      "\n",
      "  total_points  transfers_in  transfers_in_event  transfers_out  \\\n",
      "0           24         81107                 124         130136   \n",
      "1           47        126347                7400         148032   \n",
      "2           22         26815               15878          13585   \n",
      "3           60        566041                3507        1080870   \n",
      "4           37        208840                 330         235093   \n",
      "\n",
      "  transfers_out_event value_form  value_season   web_name yellow_cards  \n",
      "0                 661        0.0           5.0       Cech            0  \n",
      "1                1688        0.6           9.8       Leno            0  \n",
      "2                1018        0.8           4.1  Koscielny            1  \n",
      "3               13299        0.4          11.1   Bellerín            3  \n",
      "4                 563        0.0           6.9    Monreal            1  \n",
      "\n",
      "[5 rows x 58 columns]\n"
     ]
    }
   ],
   "source": [
    "import pandas as pd\n",
    "import json\n",
    "import requests\n",
    "from pandas.io.json import json_normalize\n",
    "\n",
    "\n",
    " \n",
    "# Define a function to get info from the FPL API and save to the specified file_path\n",
    "# It might be a good idea to navigate to the link in a browser to get an idea of what the data looks like\n",
    "def get_json(file_path):\n",
    "    r = requests.get('https://fantasy.premierleague.com/drf/bootstrap')\n",
    "    jsonResponse = r.json()\n",
    "    with open(file_path, 'w') as outfile:\n",
    "        json.dump(jsonResponse, outfile)\n",
    " \n",
    "# Run the function and choose where to save the json file\n",
    "get_json(r'D:\\fpl.json')\n",
    " \n",
    "# Open the json file and print a list of the keys\n",
    "with open(r'D:\\fpl.json') as json_data:\n",
    "    d = json.load(json_data)\n",
    "    print(list(d.keys()))\n",
    "\n",
    "# See https://pandas.pydata.org/pandas-docs/stable/generated/pandas.io.json.json_normalize.html\n",
    "df = json_normalize(d['elements'])\n",
    "print('Columns:\\n', list(df), '\\n')\n",
    "print('Dataframe Head:\\n', df.head())"
   ]
  },
  {
   "cell_type": "code",
   "execution_count": 77,
   "metadata": {},
   "outputs": [
    {
     "name": "stdout",
     "output_type": "stream",
     "text": [
      "Columns:\n",
      " ['assists', 'bonus', 'bps', 'chance_of_playing_next_round', 'chance_of_playing_this_round', 'clean_sheets', 'code', 'cost_change_event', 'cost_change_event_fall', 'cost_change_start', 'cost_change_start_fall', 'creativity', 'dreamteam_count', 'ea_index', 'element_type', 'ep_next', 'ep_this', 'event_points', 'first_name', 'form', 'goals_conceded', 'goals_scored', 'ict_index', 'id', 'in_dreamteam', 'influence', 'loaned_in', 'loaned_out', 'loans_in', 'loans_out', 'minutes', 'news', 'news_added', 'now_cost', 'own_goals', 'penalties_missed', 'penalties_saved', 'photo', 'points_per_game', 'red_cards', 'saves', 'second_name', 'selected_by_percent', 'special', 'squad_number', 'status', 'team', 'team_code', 'threat', 'total_points', 'transfers_in', 'transfers_in_event', 'transfers_out', 'transfers_out_event', 'value_form', 'value_season', 'web_name', 'yellow_cards'] \n",
      "\n",
      "Dataframe Head:\n",
      " 0        1\n",
      "1        2\n",
      "2        3\n",
      "3        4\n",
      "4        5\n",
      "5        6\n",
      "6        7\n",
      "7        8\n",
      "8       10\n",
      "9       11\n",
      "10      12\n",
      "11      13\n",
      "12      14\n",
      "13      15\n",
      "14      16\n",
      "15      17\n",
      "16      18\n",
      "17      19\n",
      "18      20\n",
      "19      21\n",
      "20      22\n",
      "21      23\n",
      "22     450\n",
      "23     451\n",
      "24     542\n",
      "25     545\n",
      "26     546\n",
      "27     552\n",
      "28     563\n",
      "29     566\n",
      "      ... \n",
      "548    560\n",
      "549    569\n",
      "550    421\n",
      "551    422\n",
      "552    423\n",
      "553    424\n",
      "554    425\n",
      "555    426\n",
      "556    427\n",
      "557    428\n",
      "558    429\n",
      "559    430\n",
      "560    431\n",
      "561    432\n",
      "562    433\n",
      "563    434\n",
      "564    435\n",
      "565    436\n",
      "566    437\n",
      "567    438\n",
      "568    448\n",
      "569    449\n",
      "570    454\n",
      "571    475\n",
      "572    483\n",
      "573    500\n",
      "574    519\n",
      "575    525\n",
      "576    555\n",
      "577    567\n",
      "Name: id, Length: 578, dtype: int64\n",
      "23\n"
     ]
    }
   ],
   "source": [
    "df = json_normalize(d['elements'])\n",
    "print('Columns:\\n', list(df), '\\n')\n",
    "print('Dataframe Head:\\n', df['id'])\n",
    "\n",
    "print (d['current-event'])"
   ]
  },
  {
   "cell_type": "code",
   "execution_count": 18,
   "metadata": {},
   "outputs": [
    {
     "name": "stdout",
     "output_type": "stream",
     "text": [
      "Columns:\n",
      " ['element_type.1.bps_clean_sheets', 'element_type.1.bps_goals_scored', 'element_type.1.scoring_clean_sheets', 'element_type.1.scoring_goals_conceded', 'element_type.1.scoring_goals_scored', 'element_type.1.squad_max_play', 'element_type.1.squad_min_play', 'element_type.1.squad_select', 'element_type.1.sub_positions_locked', 'element_type.1.ui_shirt_specific', 'element_type.2.bps_clean_sheets', 'element_type.2.bps_goals_scored', 'element_type.2.scoring_clean_sheets', 'element_type.2.scoring_goals_conceded', 'element_type.2.scoring_goals_scored', 'element_type.2.squad_max_play', 'element_type.2.squad_min_play', 'element_type.2.squad_select', 'element_type.3.bps_clean_sheets', 'element_type.3.bps_goals_scored', 'element_type.3.scoring_clean_sheets', 'element_type.3.scoring_goals_conceded', 'element_type.3.scoring_goals_scored', 'element_type.3.squad_max_play', 'element_type.3.squad_min_play', 'element_type.3.squad_select', 'element_type.4.bps_clean_sheets', 'element_type.4.bps_goals_scored', 'element_type.4.scoring_clean_sheets', 'element_type.4.scoring_goals_conceded', 'element_type.4.scoring_goals_scored', 'element_type.4.squad_max_play', 'element_type.4.squad_min_play', 'element_type.4.squad_select', 'game.bps_assists', 'game.bps_attempted_passes_limit', 'game.bps_big_chances_created', 'game.bps_big_chances_missed', 'game.bps_cbi_limit', 'game.bps_clearances_blocks_interceptions', 'game.bps_dribbles', 'game.bps_errors_leading_to_goal', 'game.bps_errors_leading_to_goal_attempt', 'game.bps_fouls', 'game.bps_key_passes', 'game.bps_long_play', 'game.bps_long_play_limit', 'game.bps_offside', 'game.bps_open_play_crosses', 'game.bps_own_goals', 'game.bps_pass_percentage_70', 'game.bps_pass_percentage_80', 'game.bps_pass_percentage_90', 'game.bps_penalties_conceded', 'game.bps_penalties_missed', 'game.bps_penalties_saved', 'game.bps_recoveries', 'game.bps_recoveries_limit', 'game.bps_red_cards', 'game.bps_saves', 'game.bps_short_play', 'game.bps_tackled', 'game.bps_tackles', 'game.bps_target_missed', 'game.bps_winning_goals', 'game.bps_yellow_cards', 'game.cup_start_event_id', 'game.currency_decimal_places', 'game.currency_multiplier', 'game.currency_symbol', 'game.default_formation', 'game.facebook_app_id', 'game.fifa_league_id', 'game.formations.1-2-5-3', 'game.formations.1-3-4-3', 'game.formations.1-3-5-2', 'game.formations.1-4-3-3', 'game.formations.1-4-4-2', 'game.formations.1-4-5-1', 'game.formations.1-5-2-3', 'game.formations.1-5-3-2', 'game.formations.1-5-4-1', 'game.game_timezone', 'game.league_h2h_tiebreak', 'game.league_join_private_max', 'game.league_join_public_max', 'game.league_max_ko_rounds_h2h', 'game.league_points_h2h_draw', 'game.league_points_h2h_lose', 'game.league_points_h2h_win', 'game.league_prefix_public', 'game.league_size_classic_max', 'game.league_size_h2h_max', 'game.photo_base_url', 'game.scoring_assists', 'game.scoring_bonus', 'game.scoring_bps', 'game.scoring_concede_limit', 'game.scoring_creativity', 'game.scoring_ea_index', 'game.scoring_ict_index', 'game.scoring_influence', 'game.scoring_long_play', 'game.scoring_long_play_limit', 'game.scoring_own_goals', 'game.scoring_penalties_missed', 'game.scoring_penalties_saved', 'game.scoring_red_cards', 'game.scoring_saves', 'game.scoring_saves_limit', 'game.scoring_short_play', 'game.scoring_threat', 'game.scoring_yellow_cards', 'game.squad_squadplay', 'game.squad_squadsize', 'game.squad_team_limit', 'game.squad_total_spend', 'game.static_game_url', 'game.support_email_address', 'game.sys_cdn_cache_enabled', 'game.sys_use_event_live_api', 'game.sys_vice_captain_enabled', 'game.transfers_cost', 'game.transfers_limit', 'game.transfers_sell_on_fee', 'game.transfers_type', 'game.ui_el_hide_currency_qi', 'game.ui_el_hide_currency_sy', 'game.ui_element_wrap', 'game.ui_selection_player_limit', 'game.ui_selection_price_gap', 'game.ui_selection_short_team_names', 'game.ui_show_home_away', 'game.ui_special_shirt_exclusions', 'game.ui_use_special_shirts'] \n",
      "\n"
     ]
    }
   ],
   "source": [
    "\n",
    "# The (not so) secret sauce (see https://www.premierleague.com/news/106533)\n",
    "df = json_normalize(d['game-settings'])\n",
    "print('Columns:\\n', list(df), '\\n')"
   ]
  },
  {
   "cell_type": "code",
   "execution_count": 49,
   "metadata": {},
   "outputs": [
    {
     "name": "stdout",
     "output_type": "stream",
     "text": [
      "Keys:\n",
      " ['new_entries', 'league', 'standings', 'update_status'] \n",
      "\n",
      "Columns:\n",
      " ['has_next', 'number', 'results'] \n",
      "\n",
      "Dataframe Head:\n",
      "    has_next  number                                            results\n",
      "0     False       1  [{'id': 5239110, 'entry_name': '99 Fred Balloo...\n"
     ]
    }
   ],
   "source": [
    "d = json.loads(requests.get('https://fantasy.premierleague.com/drf/leagues-classic-standings/231600').text)\n",
    "print('Keys:\\n', list(d.keys()), '\\n')\n",
    "df = json_normalize(d['standings'])\n",
    "print('Columns:\\n', list(df), '\\n')\n",
    "print('Dataframe Head:\\n', df.head(100))\n",
    "\n"
   ]
  },
  {
   "cell_type": "code",
   "execution_count": 39,
   "metadata": {},
   "outputs": [
    {
     "name": "stdout",
     "output_type": "stream",
     "text": [
      "Columns:\n",
      " ['entry', 'entry_name', 'event_total', 'id', 'last_rank', 'league', 'movement', 'own_entry', 'player_name', 'rank', 'rank_sort', 'start_event', 'stop_event', 'total'] \n",
      "\n",
      "Dataframe Head:\n",
      "       entry            entry_name  event_total        id  last_rank  league  \\\n",
      "0    447289      99 Fred Balloons            0   5239110          1  231600   \n",
      "1   1309202     Relegation Rovers            0   6735399          2  231600   \n",
      "2   2766779  Good Klopp Bad Klopp            0  15284960          3  231600   \n",
      "3   2275981    Game on the Throne            0  12591971          4  231600   \n",
      "4   2305266       Que Salah Salah            0  12483392          5  231600   \n",
      "5    159282      Tequila Magic Fc            0   5239108          6  231600   \n",
      "6    109718                 PEA14            0   5239107          7  231600   \n",
      "7   1312341        Bobby Firminho            0   6751222          8  231600   \n",
      "8    468015            Dream Team            0   5239112          9  231600   \n",
      "9   1680664     Bellerin Than Out            0   8802839         10  231600   \n",
      "10   934636    Ponty Park Rangers            0   5239109         11  231600   \n",
      "11  3714531         Paradise city            0  21417066         12  231600   \n",
      "12  3177153       Boat Drinks AFC            0  17904665         13  231600   \n",
      "\n",
      "   movement  own_entry        player_name  rank  rank_sort  start_event  \\\n",
      "0      same      False       Tom Richards     1          1            1   \n",
      "1      same      False      Andrew Godwin     2          2            1   \n",
      "2      same      False          Carl Vonk     3          3            1   \n",
      "3      same      False       Dale Cleaver     4          4            1   \n",
      "4      same      False      David Griffin     5          5            1   \n",
      "5      same      False  karl zammit-haber     6          6            1   \n",
      "6      same      False     Michael Godwin     7          7            1   \n",
      "7      same      False        Rob Allsopp     8          8            1   \n",
      "8      same      False     Unmesh Chitnis     9          9            1   \n",
      "9      same      False       Mark Jeffery    10         10            1   \n",
      "10     same      False        Gary Thomas    11         11            1   \n",
      "11     same      False         Dave Jones    12         12            1   \n",
      "12     same      False        James Kelly    13         13            1   \n",
      "\n",
      "    stop_event  total  \n",
      "0           38   1330  \n",
      "1           38   1289  \n",
      "2           38   1241  \n",
      "3           38   1238  \n",
      "4           38   1234  \n",
      "5           38   1199  \n",
      "6           38   1149  \n",
      "7           38   1139  \n",
      "8           38   1074  \n",
      "9           38   1025  \n",
      "10          38   1005  \n",
      "11          38    977  \n",
      "12          38    889  \n"
     ]
    }
   ],
   "source": [
    "# See json_normalize documentation for further info\n",
    "df = json_normalize(d['standings'], 'results')\n",
    "print('Columns:\\n', list(df), '\\n')\n",
    "print('Dataframe Head:\\n', df.head(100))"
   ]
  },
  {
   "cell_type": "code",
   "execution_count": null,
   "metadata": {},
   "outputs": [],
   "source": []
  },
  {
   "cell_type": "code",
   "execution_count": 52,
   "metadata": {},
   "outputs": [
    {
     "name": "stdout",
     "output_type": "stream",
     "text": [
      "Keys:\n",
      " ['history_past', 'fixtures_summary', 'explain', 'history_summary', 'fixtures', 'history'] \n",
      "\n",
      "Columns:\n",
      " ['assists', 'attempted_passes', 'big_chances_created', 'big_chances_missed', 'bonus', 'bps', 'clean_sheets', 'clearances_blocks_interceptions', 'completed_passes', 'creativity', 'dribbles', 'ea_index', 'element', 'errors_leading_to_goal', 'errors_leading_to_goal_attempt', 'fixture', 'fouls', 'goals_conceded', 'goals_scored', 'ict_index', 'id', 'influence', 'key_passes', 'kickoff_time', 'kickoff_time_formatted', 'loaned_in', 'loaned_out', 'minutes', 'offside', 'open_play_crosses', 'opponent_team', 'own_goals', 'penalties_conceded', 'penalties_missed', 'penalties_saved', 'recoveries', 'red_cards', 'round', 'saves', 'selected', 'tackled', 'tackles', 'target_missed', 'team_a_score', 'team_h_score', 'threat', 'total_points', 'transfers_balance', 'transfers_in', 'transfers_out', 'value', 'was_home', 'winning_goals', 'yellow_cards'] \n",
      "\n",
      "Dataframe Head:\n",
      " 0      8\n",
      "1      9\n",
      "2      8\n",
      "3      2\n",
      "4      2\n",
      "5      8\n",
      "6      2\n",
      "7      3\n",
      "8      8\n",
      "9     15\n",
      "10     2\n",
      "11     8\n",
      "12     8\n",
      "13     3\n",
      "14     4\n",
      "15    21\n",
      "16     2\n",
      "17    12\n",
      "18    12\n",
      "19    12\n",
      "20     2\n",
      "21    11\n",
      "22    15\n",
      "Name: total_points, dtype: int64\n"
     ]
    }
   ],
   "source": [
    "d = json.loads(requests.get('https://fantasy.premierleague.com/drf/element-summary/253').text)\n",
    "print('Keys:\\n', list(d.keys()), '\\n')\n",
    "df = json_normalize(d['history'])\n",
    "print('Columns:\\n', list(df), '\\n')\n",
    "print('Dataframe Head:\\n', df['total_points'])"
   ]
  },
  {
   "cell_type": "code",
   "execution_count": 78,
   "metadata": {},
   "outputs": [
    {
     "name": "stdout",
     "output_type": "stream",
     "text": [
      "Keys:\n",
      " ['active_chip', 'automatic_subs', 'entry_history', 'event', 'picks'] \n",
      "\n",
      "Columns:\n",
      " ['element', 'is_captain', 'is_vice_captain', 'multiplier', 'position'] \n",
      "\n",
      "Dataframe Head:\n",
      "     element  is_captain  is_vice_captain  multiplier  position\n",
      "0        47       False            False           1         1\n",
      "1       247       False            False           1         2\n",
      "2        72       False            False           1         3\n",
      "3       423       False            False           1         4\n",
      "4       276       False            False           1         5\n",
      "5       393       False            False           1         6\n",
      "6       253        True            False           2         7\n",
      "7       223       False            False           1         8\n",
      "8       257       False             True           1         9\n",
      "9        45       False            False           1        10\n",
      "10      280       False            False           1        11\n",
      "11      439       False            False           1        12\n",
      "12       56       False            False           1        13\n",
      "13      145       False            False           1        14\n",
      "14       95       False            False           1        15\n"
     ]
    }
   ],
   "source": [
    "d = json.loads(requests.get('https://fantasy.premierleague.com/drf/entry/447289/event/1/picks').text)\n",
    "print('Keys:\\n', list(d.keys()), '\\n')\n",
    "df = json_normalize(d['picks'])\n",
    "print('Columns:\\n', list(df), '\\n')\n",
    "print('Dataframe Head:\\n', df.head(100))\n",
    "\n",
    "\n",
    "      "
   ]
  },
  {
   "cell_type": "code",
   "execution_count": 13,
   "metadata": {},
   "outputs": [
    {
     "name": "stdout",
     "output_type": "stream",
     "text": [
      "Keys:\n",
      " ['elements', 'total-players', 'player', 'element_types', 'watched', 'next-event', 'phases', 'stats', 'game-settings', 'current-event', 'teams', 'stats_options', 'last-entry-event', 'entry', 'next_event_fixtures', 'events'] \n",
      "\n",
      "Columns:\n",
      " ['assists', 'bonus', 'bps', 'chance_of_playing_next_round', 'chance_of_playing_this_round', 'clean_sheets', 'code', 'cost_change_event', 'cost_change_event_fall', 'cost_change_start', 'cost_change_start_fall', 'creativity', 'dreamteam_count', 'ea_index', 'element_type', 'ep_next', 'ep_this', 'event_points', 'first_name', 'form', 'goals_conceded', 'goals_scored', 'ict_index', 'id', 'in_dreamteam', 'influence', 'loaned_in', 'loaned_out', 'loans_in', 'loans_out', 'minutes', 'news', 'news_added', 'now_cost', 'own_goals', 'penalties_missed', 'penalties_saved', 'photo', 'points_per_game', 'red_cards', 'saves', 'second_name', 'selected_by_percent', 'special', 'squad_number', 'status', 'team', 'team_code', 'threat', 'total_points', 'transfers_in', 'transfers_in_event', 'transfers_out', 'transfers_out_event', 'value_form', 'value_season', 'web_name', 'yellow_cards'] \n",
      "\n",
      "Dataframe Head:\n",
      "    assists  bonus  bps  chance_of_playing_next_round  \\\n",
      "0        0      3  130                         100.0   \n",
      "1        0      2  280                           NaN   \n",
      "2        0      3  115                         100.0   \n",
      "3        5      5  304                           0.0   \n",
      "4        2      3  166                         100.0   \n",
      "5        0      5  148                           0.0   \n",
      "6        0      2  290                         100.0   \n",
      "7        4      8  224                         100.0   \n",
      "8        0      0    0                          25.0   \n",
      "9        0      0   58                         100.0   \n",
      "\n",
      "   chance_of_playing_this_round  clean_sheets    code  cost_change_event  \\\n",
      "0                         100.0             1   11334                  0   \n",
      "1                           NaN             2   80201                  0   \n",
      "2                         100.0             1   51507                  0   \n",
      "3                         100.0             4   98745                  0   \n",
      "4                         100.0             2   38411                  0   \n",
      "5                           0.0             1  156074                  0   \n",
      "6                         100.0             3   69140                  0   \n",
      "7                         100.0             2  111457                  0   \n",
      "8                          25.0             0  233963                  0   \n",
      "9                         100.0             0   27335                  0   \n",
      "\n",
      "   cost_change_event_fall  cost_change_start     ...       threat  \\\n",
      "0                       0                 -2     ...          0.0   \n",
      "1                       0                 -2     ...          0.0   \n",
      "2                       0                 -1     ...         45.0   \n",
      "3                       0                 -1     ...        280.0   \n",
      "4                       0                 -1     ...        163.0   \n",
      "5                       0                 -2     ...         14.0   \n",
      "6                       0                 -1     ...        165.0   \n",
      "7                       0                 -1     ...        106.0   \n",
      "8                       0                 -3     ...          0.0   \n",
      "9                       0                 -5     ...         15.0   \n",
      "\n",
      "  total_points  transfers_in  transfers_in_event  transfers_out  \\\n",
      "0           24         81090                 107         130070   \n",
      "1           47        125647                6700         147814   \n",
      "2           22         25213               14276          13430   \n",
      "3           60        566010                3476        1078279   \n",
      "4           37        208802                 292         235042   \n",
      "5           24         39582                  19          59595   \n",
      "6           47         81221                 682         120053   \n",
      "7           46        435573               25193         242066   \n",
      "8            0          1306                  15           9778   \n",
      "9            8         23890                 317         111124   \n",
      "\n",
      "  transfers_out_event value_form  value_season      web_name yellow_cards  \n",
      "0                 595        0.0           5.0          Cech            0  \n",
      "1                1470        0.6           9.8          Leno            0  \n",
      "2                 863        0.8           4.1     Koscielny            1  \n",
      "3               10708        0.4          11.1      Bellerín            3  \n",
      "4                 512        0.0           6.9       Monreal            1  \n",
      "5                 296        0.0           5.6       Holding            1  \n",
      "6                 602        0.0           8.7       Mustafi            6  \n",
      "7                2671        0.6           9.4     Kolasinac            2  \n",
      "8                  33        0.0           0.0    Mavropanos            0  \n",
      "9                 562        0.1           1.8  Lichtsteiner            2  \n",
      "\n",
      "[10 rows x 58 columns]\n"
     ]
    }
   ],
   "source": [
    "d = json.loads(requests.get('https://fantasy.premierleague.com/drf/bootstrap').text)\n",
    "print('Keys:\\n', list(d.keys()), '\\n')\n",
    "df = json_normalize(d['elements'])\n",
    "print('Columns:\\n', list(df), '\\n')\n",
    "print('Dataframe Head:\\n', df.head(10))\n"
   ]
  },
  {
   "cell_type": "code",
   "execution_count": 23,
   "metadata": {},
   "outputs": [
    {
     "data": {
      "text/plain": [
       "<Figure size 1440x864 with 0 Axes>"
      ]
     },
     "metadata": {},
     "output_type": "display_data"
    },
    {
     "data": {
      "image/png": "[encoded data removed]",
      "text/plain": [
       "<Figure size 432x288 with 1 Axes>"
      ]
     },
     "metadata": {},
     "output_type": "display_data"
    },
    {
     "data": {
      "text/plain": [
       "<Figure size 864x576 with 0 Axes>"
      ]
     },
     "metadata": {},
     "output_type": "display_data"
    },
    {
     "data": {
      "image/png": "[encoded data removed]",
      "text/plain": [
       "<Figure size 432x288 with 1 Axes>"
      ]
     },
     "metadata": {},
     "output_type": "display_data"
    },
    {
     "data": {
      "text/plain": [
       "<Figure size 864x576 with 0 Axes>"
      ]
     },
     "metadata": {},
     "output_type": "display_data"
    },
    {
     "data": {
      "image/png": "[encoded data removed]",
      "text/plain": [
       "<Figure size 432x288 with 1 Axes>"
      ]
     },
     "metadata": {},
     "output_type": "display_data"
    },
    {
     "data": {
      "text/plain": [
       "<Figure size 864x576 with 0 Axes>"
      ]
     },
     "metadata": {},
     "output_type": "display_data"
    },
    {
     "data": {
      "image/png": "[encoded data removed]",
      "text/plain": [
       "<Figure size 432x288 with 1 Axes>"
      ]
     },
     "metadata": {},
     "output_type": "display_data"
    }
   ],
   "source": [
    "# Get the league, loop through the players, and call the history for each\n",
    "# Then, loop through that and sum up the transfers :) \n",
    "\n",
    "# Need all this stuff\n",
    "import pandas as pd\n",
    "import json\n",
    "import requests\n",
    "from pandas.io.json import json_normalize\n",
    "import numpy as np\n",
    "import pandas as pd\n",
    "import matplotlib.pyplot as plt\n",
    "%matplotlib inline\n",
    "\n",
    "# Kick off by grabbing the bootstrap data - gameweek & player details are in here\n",
    "json_bootstrap = json.loads(requests.get('https://fantasy.premierleague.com/drf/bootstrap').text)\n",
    "# Find the latest gameweek\n",
    "latest_gameweek= (json_bootstrap['current-event'])\n",
    "df_elements = json_normalize(json_bootstrap['elements'])\n",
    "\n",
    "# Loop round BH IT league\n",
    "manager_summary=[]\n",
    "json_league_standings = json.loads(requests.get('https://fantasy.premierleague.com/drf/leagues-classic-standings/231600').text)\n",
    "df_league_standings = json_normalize(json_league_standings['standings'], 'results')\n",
    "for ls_index,ls_row in (df_league_standings.iterrows()):\n",
    "    transfer_cost=0\n",
    "    points_left_on_the_bench=0\n",
    "    value=0\n",
    "    captain_points=0\n",
    "    # Loop round history\n",
    "    json_entry_history = \\\n",
    "    json.loads(requests.get('https://fantasy.premierleague.com/drf/entry/' + str(ls_row['entry']) + '/history').text)\n",
    "    df_entry_history = json_normalize(json_entry_history['history'])\n",
    "    for ls_hist_index,ls_hist_row in (df_entry_history.iterrows()):\n",
    "        transfer_cost = ls_hist_row['event_transfers_cost'] + transfer_cost\n",
    "        points_left_on_the_bench = ls_hist_row['points_on_bench'] + points_left_on_the_bench\n",
    "    value = ((ls_hist_row['value'] - 1000) / 10)\n",
    "    # Now, loop round all gameweek picks, finding the captain\n",
    "    # Then lookup in https://fantasy.premierleague.com/drf/element-summary/176/history for points for the captain\n",
    "    for game_week in range (1, latest_gameweek+1):\n",
    "        #print ('getting data')\n",
    "        json_picks_for_gw = \\\n",
    "         json.loads(requests.get('https://fantasy.premierleague.com/drf/entry/' \\\n",
    "                                + str(ls_row['entry']) \\\n",
    "                                + '/event/'\n",
    "                                + str(game_week)\n",
    "                                + '/picks').text)\n",
    "        df_picks_for_gw = json_normalize(json_picks_for_gw['picks'])\n",
    "        #print (ls_row['entry'])\n",
    "        #print (game_week)\n",
    "        # Find the captain\n",
    "        df_captain=(df_picks_for_gw.loc[df_picks_for_gw.is_captain==True, 'element'])\n",
    "        captain_id=int(df_captain.to_string(index=False))\n",
    "        #print (df_elements.loc[df_elements.id==captain_id, 'first_name'])\n",
    "        # Now look up his points for that gw\n",
    "        json_gw_points = json.loads(requests.get('https://fantasy.premierleague.com/drf/element-summary/' + str(captain_id) ).text)\n",
    "        df_gw_points = json_normalize(json_gw_points['history'])\n",
    "        #print (df_gw_points)\n",
    "        array=[game_week]\n",
    "        df_round=df_gw_points.loc[df_gw_points['round'].isin(array),'total_points']\n",
    "        points=int(df_round.to_string(index=False))\n",
    "        captain_points=captain_points + (int(points)*2)\n",
    "\n",
    "# d = json.loads(requests.get('https://fantasy.premierleague.com/drf/element-summary/253').text)\n",
    "\n",
    "    manager_summary.append({'Owner': ls_row['player_name'], 'Points Burned': transfer_cost, \\\n",
    "                          'Points Left On The Bench': points_left_on_the_bench, \\\n",
    "                          'Rank': ls_row['rank'], 'Value': value, 'Captain Points':captain_points})\n",
    "# Turn the dictionary to a dataframe\n",
    "df_manager_summary=pd.DataFrame(manager_summary)\n",
    "df_manager_summary_sorted=df_manager_summary.sort_values(by='Rank',ascending=False)\n",
    "plt.figure(figsize=(20, 12))\n",
    "fig=df_manager_summary_sorted.plot(kind='barh',x='Owner', y='Points Burned',legend=False)\n",
    "fig.set_title('Hit Burners\\n',fontsize=20)\n",
    "fig.set_ylabel('Manager',fontsize=14)\n",
    "fig.set_xlabel('Points Burned',fontsize=14)\n",
    "\n",
    "x=plt.figure(figsize=(12, 8))\n",
    "x=fig=df_manager_summary_sorted.plot(kind='barh',x='Owner', y='Points Left On The Bench',legend=False)\n",
    "x=fig.set_title('Bench Burners\\n',fontsize=20)\n",
    "x=fig.set_ylabel('Manager',fontsize=14)\n",
    "x=fig.set_xlabel('Points Burned',fontsize=14)\n",
    "\n",
    "x=plt.figure(figsize=(12, 8))\n",
    "x=fig=df_manager_summary_sorted.plot(kind='barh',x='Owner', y='Value',legend=False)\n",
    "x=fig.set_title('Team Value Lost or Gained\\n',fontsize=20)\n",
    "x=fig.set_ylabel('Manager',fontsize=14)\n",
    "x=fig.set_xlabel('<-- Value Lost vs Value Gained -->',fontsize=14)\n",
    "\n",
    "x=plt.figure(figsize=(12, 8))\n",
    "x=fig=df_manager_summary_sorted.plot(kind='barh',x='Owner', y='Captain Points',legend=False)\n",
    "x=fig.set_title('Captain Points\\n',fontsize=20)\n",
    "x=fig.set_ylabel('Manager',fontsize=14)\n",
    "x=fig.set_xlabel('Points',fontsize=14)\n"
   ]
  },
  {
   "cell_type": "code",
   "execution_count": 24,
   "metadata": {},
   "outputs": [
    {
     "name": "stdout",
     "output_type": "stream",
     "text": [
      "   assists  bonus  bps  chance_of_playing_next_round  \\\n",
      "0        0      3  130                         100.0   \n",
      "\n",
      "   chance_of_playing_this_round  clean_sheets   code  cost_change_event  \\\n",
      "0                         100.0             1  11334                  0   \n",
      "\n",
      "   cost_change_event_fall  cost_change_start  cost_change_start_fall  \\\n",
      "0                       0                 -2                       2   \n",
      "\n",
      "  creativity  dreamteam_count  ea_index  element_type ep_next ep_this  \\\n",
      "0        0.0                0         0             1     1.0     0.0   \n",
      "\n",
      "   event_points first_name form  goals_conceded  goals_scored ict_index  id  \\\n",
      "0             0       Petr  0.0               9             0      20.4   1   \n",
      "\n",
      "   in_dreamteam influence  loaned_in  loaned_out  loans_in  loans_out  \\\n",
      "0         False     205.0          0           0         0          0   \n",
      "\n",
      "   minutes news            news_added  now_cost  own_goals  penalties_missed  \\\n",
      "0      585       2018-09-29T17:31:14Z        48          0                 0   \n",
      "\n",
      "   penalties_saved      photo points_per_game  red_cards  saves second_name  \\\n",
      "0                0  11334.jpg             3.4          0     27        Cech   \n",
      "\n",
      "  selected_by_percent  special  squad_number status  team  team_code threat  \\\n",
      "0                 1.2    False           1.0      a     1          3    0.0   \n",
      "\n",
      "   total_points  transfers_in  transfers_in_event  transfers_out  \\\n",
      "0            24         81116                 133         130204   \n",
      "\n",
      "   transfers_out_event value_form value_season web_name  yellow_cards  \n",
      "0                  729        0.0          5.0     Cech             0  \n",
      "    entry        entry_name  event_total       id  last_rank  league movement  \\\n",
      "0  447289  99 Fred Balloons           64  5239110          1  231600     same   \n",
      "\n",
      "   own_entry   player_name  rank  rank_sort  start_event  stop_event  total  \n",
      "0      False  Tom Richards     1          1            1          38   1394  \n"
     ]
    }
   ],
   "source": [
    "# Check the captain points by joining the data frames...\n",
    "\n",
    "import pandas as pd\n",
    "import json\n",
    "import requests\n",
    "from pandas.io.json import json_normalize\n",
    "import numpy as np\n",
    "import pandas as pd\n",
    "import matplotlib.pyplot as plt\n",
    "%matplotlib inline\n",
    "pd.set_option('display.max_columns', None)\n",
    "\n",
    "# Kick off by grabbing the bootstrap data - gameweek & player details are in here\n",
    "json_bootstrap = json.loads(requests.get('https://fantasy.premierleague.com/drf/bootstrap').text)\n",
    "df_elements = json_normalize(json_bootstrap['elements'])\n",
    "latest_gameweek= (json_bootstrap['current-event'])\n",
    "print (df_elements.head(1))\n",
    "\n",
    "json_league_standings = json.loads(requests.get('https://fantasy.premierleague.com/drf/leagues-classic-standings/231600').text)\n",
    "df_league_standings = json_normalize(json_league_standings['standings'], 'results')\n",
    "print (df_league_standings.head(1))\n",
    "\n",
    "#json.loads(requests.get('https://fantasy.premierleague.com/drf/entry/' + str(ls_row['entry']) + '/history').text)\n",
    "#df_entry_history = json_normalize(json_entry_history['history'])\n",
    "\n",
    "Test\n",
    "\n"
   ]
  },
  {
   "cell_type": "code",
   "execution_count": null,
   "metadata": {},
   "outputs": [],
   "source": [
    "\n"
   ]
  }
 ],
 "metadata": {
  "kernelspec": {
   "display_name": "Python 3",
   "language": "python",
   "name": "python3"
  },
  "language_info": {
   "codemirror_mode": {
    "name": "ipython",
    "version": 3
   },
   "file_extension": ".py",
   "mimetype": "text/x-python",
   "name": "python",
   "nbconvert_exporter": "python",
   "pygments_lexer": "ipython3",
   "version": "3.6.5"
  }
 },
 "nbformat": 4,
 "nbformat_minor": 2
}
