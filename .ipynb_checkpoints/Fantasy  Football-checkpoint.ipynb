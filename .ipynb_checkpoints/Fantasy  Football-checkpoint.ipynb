{
 "cells": [
  {
   "cell_type": "code",
   "execution_count": 47,
   "metadata": {},
   "outputs": [
    {
     "name": "stdout",
     "output_type": "stream",
     "text": [
      "['elements', 'total-players', 'player', 'element_types', 'watched', 'next-event', 'phases', 'stats', 'game-settings', 'current-event', 'teams', 'stats_options', 'last-entry-event', 'entry', 'next_event_fixtures', 'events']\n",
      "Columns:\n",
      " ['assists', 'bonus', 'bps', 'chance_of_playing_next_round', 'chance_of_playing_this_round', 'clean_sheets', 'code', 'cost_change_event', 'cost_change_event_fall', 'cost_change_start', 'cost_change_start_fall', 'creativity', 'dreamteam_count', 'ea_index', 'element_type', 'ep_next', 'ep_this', 'event_points', 'first_name', 'form', 'goals_conceded', 'goals_scored', 'ict_index', 'id', 'in_dreamteam', 'influence', 'loaned_in', 'loaned_out', 'loans_in', 'loans_out', 'minutes', 'news', 'news_added', 'now_cost', 'own_goals', 'penalties_missed', 'penalties_saved', 'photo', 'points_per_game', 'red_cards', 'saves', 'second_name', 'selected_by_percent', 'special', 'squad_number', 'status', 'team', 'team_code', 'threat', 'total_points', 'transfers_in', 'transfers_in_event', 'transfers_out', 'transfers_out_event', 'value_form', 'value_season', 'web_name', 'yellow_cards'] \n",
      "\n",
      "Dataframe Head:\n",
      "    assists  bonus  bps  chance_of_playing_next_round  \\\n",
      "0        0      3  130                         100.0   \n",
      "1        0      2  257                           NaN   \n",
      "2        0      0   74                         100.0   \n",
      "3        4      3  265                         100.0   \n",
      "4        2      3  166                         100.0   \n",
      "\n",
      "   chance_of_playing_this_round  clean_sheets   code  cost_change_event  \\\n",
      "0                         100.0             1  11334                  0   \n",
      "1                           NaN             1  80201                  0   \n",
      "2                         100.0             0  51507                  0   \n",
      "3                         100.0             3  98745                  0   \n",
      "4                         100.0             2  38411                  0   \n",
      "\n",
      "   cost_change_event_fall  cost_change_start     ...       threat  \\\n",
      "0                       0                 -2     ...          0.0   \n",
      "1                       0                 -2     ...          0.0   \n",
      "2                       0                 -1     ...         11.0   \n",
      "3                       0                 -1     ...        276.0   \n",
      "4                       0                 -1     ...        163.0   \n",
      "\n",
      "  total_points  transfers_in  transfers_in_event  transfers_out  \\\n",
      "0           24         80987                   4         129493   \n",
      "1           41        119030                  83         146423   \n",
      "2            7         10950                  13          12575   \n",
      "3           49        562657                 123        1067646   \n",
      "4           37        208521                  11         234544   \n",
      "\n",
      "  transfers_out_event value_form  value_season   web_name yellow_cards  \n",
      "0                  18        0.0           5.0       Cech            0  \n",
      "1                  79        0.4           8.5       Leno            0  \n",
      "2                   8        0.2           1.3  Koscielny            1  \n",
      "3                  75        0.0           9.1   Bellerín            3  \n",
      "4                  14        0.0           6.9    Monreal            1  \n",
      "\n",
      "[5 rows x 58 columns]\n"
     ]
    }
   ],
   "source": [
    "import pandas as pd\n",
    "import json\n",
    "import requests\n",
    "from pandas.io.json import json_normalize\n",
    " \n",
    "# Define a function to get info from the FPL API and save to the specified file_path\n",
    "# It might be a good idea to navigate to the link in a browser to get an idea of what the data looks like\n",
    "def get_json(file_path):\n",
    "    r = requests.get('https://fantasy.premierleague.com/drf/bootstrap')\n",
    "    jsonResponse = r.json()\n",
    "    with open(file_path, 'w') as outfile:\n",
    "        json.dump(jsonResponse, outfile)\n",
    " \n",
    "# Run the function and choose where to save the json file\n",
    "get_json(r'C:\\Users\\lucama_eater\\Downloads\\FantasyFootball\\fpl.json')\n",
    " \n",
    "# Open the json file and print a list of the keys\n",
    "with open(r'C:\\Users\\lucama_eater\\Downloads\\FantasyFootball\\fpl.json') as json_data:\n",
    "    d = json.load(json_data)\n",
    "    print(list(d.keys()))\n",
    "\n",
    "# See https://pandas.pydata.org/pandas-docs/stable/generated/pandas.io.json.json_normalize.html\n",
    "df = json_normalize(d['elements'])\n",
    "print('Columns:\\n', list(df), '\\n')\n",
    "print('Dataframe Head:\\n', df.head())"
   ]
  },
  {
   "cell_type": "code",
   "execution_count": 17,
   "metadata": {},
   "outputs": [
    {
     "name": "stdout",
     "output_type": "stream",
     "text": [
      "Columns:\n",
      " ['code', 'current_event_fixture', 'draw', 'id', 'link_url', 'loss', 'name', 'next_event_fixture', 'played', 'points', 'position', 'short_name', 'strength', 'strength_attack_away', 'strength_attack_home', 'strength_defence_away', 'strength_defence_home', 'strength_overall_away', 'strength_overall_home', 'team_division', 'unavailable', 'win'] \n",
      "\n",
      "Dataframe Head:\n",
      "    code                              current_event_fixture  draw  id link_url  \\\n",
      "0     3  [{'is_home': True, 'day': 19, 'event_day': 1, ...     0   1            \n",
      "1    91  [{'is_home': True, 'day': 19, 'event_day': 1, ...     0   2            \n",
      "2    36  [{'is_home': False, 'day': 19, 'event_day': 1,...     0   3            \n",
      "3    90  [{'is_home': False, 'day': 19, 'event_day': 1,...     0   4            \n",
      "4    97  [{'is_home': False, 'day': 19, 'event_day': 1,...     0   5            \n",
      "\n",
      "   loss         name                                 next_event_fixture  \\\n",
      "0     0      Arsenal  [{'is_home': True, 'day': 29, 'event_day': 1, ...   \n",
      "1     0  Bournemouth  [{'is_home': True, 'day': 30, 'event_day': 2, ...   \n",
      "2     0     Brighton  [{'is_home': False, 'day': 29, 'event_day': 1,...   \n",
      "3     0      Burnley  [{'is_home': False, 'day': 29, 'event_day': 1,...   \n",
      "4     0      Cardiff  [{'is_home': False, 'day': 29, 'event_day': 1,...   \n",
      "\n",
      "   played  points ...   strength strength_attack_away  strength_attack_home  \\\n",
      "0       0       0 ...          4                 1270                  1240   \n",
      "1       0       0 ...          3                 1100                  1040   \n",
      "2       0       0 ...          3                 1140                  1040   \n",
      "3       0       0 ...          2                 1030                   990   \n",
      "4       0       0 ...          2                 1060                  1030   \n",
      "\n",
      "   strength_defence_away  strength_defence_home  strength_overall_away  \\\n",
      "0                   1340                   1310                   1330   \n",
      "1                   1130                   1120                   1130   \n",
      "2                   1070                   1010                   1110   \n",
      "3                   1040                   1000                   1020   \n",
      "4                   1090                   1020                   1060   \n",
      "\n",
      "   strength_overall_home  team_division  unavailable  win  \n",
      "0                   1290              1        False    0  \n",
      "1                   1070              1        False    0  \n",
      "2                   1040              1        False    0  \n",
      "3                   1010              1        False    0  \n",
      "4                   1000              1        False    0  \n",
      "\n",
      "[5 rows x 22 columns]\n"
     ]
    }
   ],
   "source": [
    "df = json_normalize(d['teams'])\n",
    "print('Columns:\\n', list(df), '\\n')\n",
    "print('Dataframe Head:\\n', df.head())"
   ]
  },
  {
   "cell_type": "code",
   "execution_count": 18,
   "metadata": {},
   "outputs": [
    {
     "name": "stdout",
     "output_type": "stream",
     "text": [
      "Columns:\n",
      " ['element_type.1.bps_clean_sheets', 'element_type.1.bps_goals_scored', 'element_type.1.scoring_clean_sheets', 'element_type.1.scoring_goals_conceded', 'element_type.1.scoring_goals_scored', 'element_type.1.squad_max_play', 'element_type.1.squad_min_play', 'element_type.1.squad_select', 'element_type.1.sub_positions_locked', 'element_type.1.ui_shirt_specific', 'element_type.2.bps_clean_sheets', 'element_type.2.bps_goals_scored', 'element_type.2.scoring_clean_sheets', 'element_type.2.scoring_goals_conceded', 'element_type.2.scoring_goals_scored', 'element_type.2.squad_max_play', 'element_type.2.squad_min_play', 'element_type.2.squad_select', 'element_type.3.bps_clean_sheets', 'element_type.3.bps_goals_scored', 'element_type.3.scoring_clean_sheets', 'element_type.3.scoring_goals_conceded', 'element_type.3.scoring_goals_scored', 'element_type.3.squad_max_play', 'element_type.3.squad_min_play', 'element_type.3.squad_select', 'element_type.4.bps_clean_sheets', 'element_type.4.bps_goals_scored', 'element_type.4.scoring_clean_sheets', 'element_type.4.scoring_goals_conceded', 'element_type.4.scoring_goals_scored', 'element_type.4.squad_max_play', 'element_type.4.squad_min_play', 'element_type.4.squad_select', 'game.bps_assists', 'game.bps_attempted_passes_limit', 'game.bps_big_chances_created', 'game.bps_big_chances_missed', 'game.bps_cbi_limit', 'game.bps_clearances_blocks_interceptions', 'game.bps_dribbles', 'game.bps_errors_leading_to_goal', 'game.bps_errors_leading_to_goal_attempt', 'game.bps_fouls', 'game.bps_key_passes', 'game.bps_long_play', 'game.bps_long_play_limit', 'game.bps_offside', 'game.bps_open_play_crosses', 'game.bps_own_goals', 'game.bps_pass_percentage_70', 'game.bps_pass_percentage_80', 'game.bps_pass_percentage_90', 'game.bps_penalties_conceded', 'game.bps_penalties_missed', 'game.bps_penalties_saved', 'game.bps_recoveries', 'game.bps_recoveries_limit', 'game.bps_red_cards', 'game.bps_saves', 'game.bps_short_play', 'game.bps_tackled', 'game.bps_tackles', 'game.bps_target_missed', 'game.bps_winning_goals', 'game.bps_yellow_cards', 'game.cup_start_event_id', 'game.currency_decimal_places', 'game.currency_multiplier', 'game.currency_symbol', 'game.default_formation', 'game.facebook_app_id', 'game.fifa_league_id', 'game.formations.1-2-5-3', 'game.formations.1-3-4-3', 'game.formations.1-3-5-2', 'game.formations.1-4-3-3', 'game.formations.1-4-4-2', 'game.formations.1-4-5-1', 'game.formations.1-5-2-3', 'game.formations.1-5-3-2', 'game.formations.1-5-4-1', 'game.game_timezone', 'game.league_h2h_tiebreak', 'game.league_join_private_max', 'game.league_join_public_max', 'game.league_max_ko_rounds_h2h', 'game.league_points_h2h_draw', 'game.league_points_h2h_lose', 'game.league_points_h2h_win', 'game.league_prefix_public', 'game.league_size_classic_max', 'game.league_size_h2h_max', 'game.photo_base_url', 'game.scoring_assists', 'game.scoring_bonus', 'game.scoring_bps', 'game.scoring_concede_limit', 'game.scoring_creativity', 'game.scoring_ea_index', 'game.scoring_ict_index', 'game.scoring_influence', 'game.scoring_long_play', 'game.scoring_long_play_limit', 'game.scoring_own_goals', 'game.scoring_penalties_missed', 'game.scoring_penalties_saved', 'game.scoring_red_cards', 'game.scoring_saves', 'game.scoring_saves_limit', 'game.scoring_short_play', 'game.scoring_threat', 'game.scoring_yellow_cards', 'game.squad_squadplay', 'game.squad_squadsize', 'game.squad_team_limit', 'game.squad_total_spend', 'game.static_game_url', 'game.support_email_address', 'game.sys_cdn_cache_enabled', 'game.sys_use_event_live_api', 'game.sys_vice_captain_enabled', 'game.transfers_cost', 'game.transfers_limit', 'game.transfers_sell_on_fee', 'game.transfers_type', 'game.ui_el_hide_currency_qi', 'game.ui_el_hide_currency_sy', 'game.ui_element_wrap', 'game.ui_selection_player_limit', 'game.ui_selection_price_gap', 'game.ui_selection_short_team_names', 'game.ui_show_home_away', 'game.ui_special_shirt_exclusions', 'game.ui_use_special_shirts'] \n",
      "\n"
     ]
    }
   ],
   "source": [
    "\n",
    "# The (not so) secret sauce (see https://www.premierleague.com/news/106533)\n",
    "df = json_normalize(d['game-settings'])\n",
    "print('Columns:\\n', list(df), '\\n')"
   ]
  },
  {
   "cell_type": "code",
   "execution_count": 49,
   "metadata": {},
   "outputs": [
    {
     "name": "stdout",
     "output_type": "stream",
     "text": [
      "Keys:\n",
      " ['new_entries', 'league', 'standings', 'update_status'] \n",
      "\n",
      "Columns:\n",
      " ['has_next', 'number', 'results'] \n",
      "\n",
      "Dataframe Head:\n",
      "    has_next  number                                            results\n",
      "0     False       1  [{'id': 5239110, 'entry_name': '99 Fred Balloo...\n"
     ]
    }
   ],
   "source": [
    "d = json.loads(requests.get('https://fantasy.premierleague.com/drf/leagues-classic-standings/231600').text)\n",
    "print('Keys:\\n', list(d.keys()), '\\n')\n",
    "df = json_normalize(d['standings'])\n",
    "print('Columns:\\n', list(df), '\\n')\n",
    "print('Dataframe Head:\\n', df.head(100))\n",
    "\n"
   ]
  },
  {
   "cell_type": "code",
   "execution_count": 39,
   "metadata": {},
   "outputs": [
    {
     "name": "stdout",
     "output_type": "stream",
     "text": [
      "Columns:\n",
      " ['entry', 'entry_name', 'event_total', 'id', 'last_rank', 'league', 'movement', 'own_entry', 'player_name', 'rank', 'rank_sort', 'start_event', 'stop_event', 'total'] \n",
      "\n",
      "Dataframe Head:\n",
      "       entry            entry_name  event_total        id  last_rank  league  \\\n",
      "0    447289      99 Fred Balloons            0   5239110          1  231600   \n",
      "1   1309202     Relegation Rovers            0   6735399          2  231600   \n",
      "2   2766779  Good Klopp Bad Klopp            0  15284960          3  231600   \n",
      "3   2275981    Game on the Throne            0  12591971          4  231600   \n",
      "4   2305266       Que Salah Salah            0  12483392          5  231600   \n",
      "5    159282      Tequila Magic Fc            0   5239108          6  231600   \n",
      "6    109718                 PEA14            0   5239107          7  231600   \n",
      "7   1312341        Bobby Firminho            0   6751222          8  231600   \n",
      "8    468015            Dream Team            0   5239112          9  231600   \n",
      "9   1680664     Bellerin Than Out            0   8802839         10  231600   \n",
      "10   934636    Ponty Park Rangers            0   5239109         11  231600   \n",
      "11  3714531         Paradise city            0  21417066         12  231600   \n",
      "12  3177153       Boat Drinks AFC            0  17904665         13  231600   \n",
      "\n",
      "   movement  own_entry        player_name  rank  rank_sort  start_event  \\\n",
      "0      same      False       Tom Richards     1          1            1   \n",
      "1      same      False      Andrew Godwin     2          2            1   \n",
      "2      same      False          Carl Vonk     3          3            1   \n",
      "3      same      False       Dale Cleaver     4          4            1   \n",
      "4      same      False      David Griffin     5          5            1   \n",
      "5      same      False  karl zammit-haber     6          6            1   \n",
      "6      same      False     Michael Godwin     7          7            1   \n",
      "7      same      False        Rob Allsopp     8          8            1   \n",
      "8      same      False     Unmesh Chitnis     9          9            1   \n",
      "9      same      False       Mark Jeffery    10         10            1   \n",
      "10     same      False        Gary Thomas    11         11            1   \n",
      "11     same      False         Dave Jones    12         12            1   \n",
      "12     same      False        James Kelly    13         13            1   \n",
      "\n",
      "    stop_event  total  \n",
      "0           38   1330  \n",
      "1           38   1289  \n",
      "2           38   1241  \n",
      "3           38   1238  \n",
      "4           38   1234  \n",
      "5           38   1199  \n",
      "6           38   1149  \n",
      "7           38   1139  \n",
      "8           38   1074  \n",
      "9           38   1025  \n",
      "10          38   1005  \n",
      "11          38    977  \n",
      "12          38    889  \n"
     ]
    }
   ],
   "source": [
    "# See json_normalize documentation for further info\n",
    "df = json_normalize(d['standings'], 'results')\n",
    "print('Columns:\\n', list(df), '\\n')\n",
    "print('Dataframe Head:\\n', df.head(100))"
   ]
  },
  {
   "cell_type": "code",
   "execution_count": 44,
   "metadata": {},
   "outputs": [
    {
     "name": "stdout",
     "output_type": "stream",
     "text": [
      "Keys:\n",
      " ['chips', 'entry', 'leagues', 'season', 'history'] \n",
      "\n",
      "Columns:\n",
      " ['bank', 'entry', 'event', 'event_transfers', 'event_transfers_cost', 'id', 'movement', 'overall_rank', 'points', 'points_on_bench', 'rank', 'rank_sort', 'total_points', 'value'] \n",
      "\n",
      "Dataframe Head:\n",
      "     bank   entry  event  event_transfers  event_transfers_cost         id  \\\n",
      "0      5  447289      1                0                     0     447289   \n",
      "1      5  447289      2                0                     0    5003601   \n",
      "2     18  447289      3                3                     4   10112815   \n",
      "3     18  447289      4                1                     0   15486685   \n",
      "4      0  447289      5                0                     0   20991625   \n",
      "5     22  447289      6                1                     0   26627635   \n",
      "6      1  447289      7                2                     4   32263645   \n",
      "7      1  447289      8                0                     0   37965190   \n",
      "8      0  447289      9                2                     0   43732270   \n",
      "9      0  447289     10                0                     0   49499350   \n",
      "10     0  447289     11                1                     0   55331965   \n",
      "11     0  447289     12                3                     4   61164580   \n",
      "12     0  447289     13                3                     8   67062730   \n",
      "13     0  447289     14                0                     0   72960880   \n",
      "14    20  447289     15                2                     0   78924565   \n",
      "15    20  447289     16                0                     0   84888250   \n",
      "16     7  447289     17                2                     0   90851935   \n",
      "17    18  447289     18                2                     4   96815620   \n",
      "18    13  447289     19                1                     0  102844840   \n",
      "19    21  447289     20                1                     0  108874060   \n",
      "20    34  447289     21                1                     0  114968815   \n",
      "21     0  447289     22                2                     4  121063570   \n",
      "22    13  447289     23                1                     0  127223860   \n",
      "\n",
      "   movement  overall_rank  points  points_on_bench       rank  rank_sort  \\\n",
      "0       new        704388      69               13   704389.0   712138.0   \n",
      "1        up        506644      77                3   890333.0   892976.0   \n",
      "2      down        723347      49                2  2876748.0  2878332.0   \n",
      "3      down        808065      44                2  2839316.0  2845771.0   \n",
      "4        up        494539      66               17   659891.0   662392.0   \n",
      "5        up        300589      68                3   334747.0   337131.0   \n",
      "6        up        274231      63                7  1010720.0  1013140.0   \n",
      "7        up        140559      77               12   233180.0   234456.0   \n",
      "8        up        133763      44                8  2689661.0  2693949.0   \n",
      "9        up         95499      76                6   827511.0   830136.0   \n",
      "10       up         80591      69               12   801759.0   804716.0   \n",
      "11       up         69950      64                6   420662.0   421237.0   \n",
      "12     down        141444      37                3  5125727.0  5126423.0   \n",
      "13     down        141815      55               14  1738888.0  1745769.0   \n",
      "14       up        100411      64                4   536571.0   539168.0   \n",
      "15       up         32601      94                5    88004.0    88469.0   \n",
      "16       up         31632      53                4  1286381.0  1289408.0   \n",
      "17     down         51907      46                3  4242209.0  4244133.0   \n",
      "18     down         67557      65               22  2202239.0  2205313.0   \n",
      "19       up         54560      61                6  1354229.0  1356379.0   \n",
      "20     down         85471      41                6  5303770.0  5305202.0   \n",
      "21       up         62354      76                2    76330.0    77113.0   \n",
      "22     same         62354       0                0        NaN        NaN   \n",
      "\n",
      "    total_points  value  \n",
      "0             69   1000  \n",
      "1            146   1003  \n",
      "2            191   1010  \n",
      "3            235   1014  \n",
      "4            301   1011  \n",
      "5            369   1017  \n",
      "6            428   1022  \n",
      "7            505   1025  \n",
      "8            549   1030  \n",
      "9            625   1035  \n",
      "10           694   1036  \n",
      "11           754   1038  \n",
      "12           783   1042  \n",
      "13           838   1043  \n",
      "14           902   1045  \n",
      "15           996   1053  \n",
      "16          1049   1056  \n",
      "17          1091   1061  \n",
      "18          1156   1057  \n",
      "19          1217   1057  \n",
      "20          1258   1062  \n",
      "21          1330   1060  \n",
      "22          1330   1067  \n"
     ]
    }
   ],
   "source": [
    "d = json.loads(requests.get('https://fantasy.premierleague.com/drf/entry/447289/history').text)\n",
    "print('Keys:\\n', list(d.keys()), '\\n')\n",
    "df = json_normalize(d['history'])\n",
    "print('Columns:\\n', list(df), '\\n')\n",
    "print('Dataframe Head:\\n', df.head(100))"
   ]
  },
  {
   "cell_type": "code",
   "execution_count": 32,
   "metadata": {},
   "outputs": [
    {
     "data": {
      "text/plain": [
       "<Figure size 864x576 with 0 Axes>"
      ]
     },
     "metadata": {},
     "output_type": "display_data"
    },
    {
     "data": {
      "image/png": "[encoded data removed]",
      "text/plain": [
       "<Figure size 432x288 with 1 Axes>"
      ]
     },
     "metadata": {},
     "output_type": "display_data"
    },
    {
     "data": {
      "text/plain": [
       "<Figure size 864x576 with 0 Axes>"
      ]
     },
     "metadata": {},
     "output_type": "display_data"
    },
    {
     "data": {
      "image/png": "[encoded data removed]",
      "text/plain": [
       "<Figure size 432x288 with 1 Axes>"
      ]
     },
     "metadata": {},
     "output_type": "display_data"
    }
   ],
   "source": [
    "# Get the league, loop through the players, and call the history for each\n",
    "# Then, loop through that and sum up the transfers :) \n",
    "\n",
    "# Need all this stuff\n",
    "import pandas as pd\n",
    "import json\n",
    "import requests\n",
    "from pandas.io.json import json_normalize\n",
    "import numpy as np\n",
    "import pandas as pd\n",
    "import matplotlib.pyplot as plt\n",
    "%matplotlib inline\n",
    "\n",
    "point_burners=[]\n",
    "d = json.loads(requests.get('https://fantasy.premierleague.com/drf/leagues-classic-standings/231600').text)\n",
    "df = json_normalize(d['standings'], 'results')\n",
    "for index,row in (df.iterrows()):\n",
    "    transfer_cost=0\n",
    "    points_left_on_the_bench=0\n",
    "    d = json.loads(requests.get('https://fantasy.premierleague.com/drf/entry/' + str(row['entry']) + '/history').text)\n",
    "    df1 = json_normalize(d['history'])\n",
    "    for index,nrow in (df1.iterrows()):\n",
    "        transfer_cost = nrow['event_transfers_cost'] + transfer_cost\n",
    "        points_left_on_the_bench = nrow['points_on_bench'] + points_left_on_the_bench\n",
    "    point_burners.append({'Owner': row['player_name'], 'Points Burned': transfer_cost, 'Points Left On The Bench': points_left_on_the_bench, 'Rank': row['rank']})\n",
    "\n",
    "dfpb=pd.DataFrame(point_burners)\n",
    "dfpb_sorted=dfpb.sort_values(by='Rank',ascending=False)\n",
    "x=plt.figure(figsize=(12, 8))\n",
    "x=fig=dfpb_sorted.plot(kind='barh',x='Owner', y='Points Burned',legend=False)\n",
    "x=fig.set_title('Hit Burners\\n',fontsize=20)\n",
    "x=fig.set_ylabel('Manager',fontsize=14)\n",
    "x=fig.set_xlabel('Points Burned',fontsize=14)\n",
    "\n",
    "x=plt.figure(figsize=(12, 8))\n",
    "x=fig=dfpb_sorted.plot(kind='barh',x='Owner', y='Points Left On The Bench',legend=False)\n",
    "x=fig.set_title('Bench Burners\\n',fontsize=20)\n",
    "x=fig.set_ylabel('Manager',fontsize=14)\n",
    "x=fig.set_xlabel('Points Burned',fontsize=14)\n",
    "    \n",
    "    "
   ]
  },
  {
   "cell_type": "code",
   "execution_count": 19,
   "metadata": {},
   "outputs": [
    {
     "data": {
      "text/plain": [
       "<Figure size 864x576 with 0 Axes>"
      ]
     },
     "metadata": {},
     "output_type": "display_data"
    },
    {
     "data": {
      "image/png": "[encoded data removed]",
      "text/plain": [
       "<Figure size 432x288 with 1 Axes>"
      ]
     },
     "metadata": {},
     "output_type": "display_data"
    }
   ],
   "source": [
    "# Get the league, loop through the players, and call the history for each\n",
    "# Then, loop through that and sum up the transfers :) \n",
    "\n",
    "# Need all this stuff\n",
    "import pandas as pd\n",
    "import json\n",
    "import requests\n",
    "from pandas.io.json import json_normalize\n",
    "import numpy as np\n",
    "import pandas as pd\n",
    "import matplotlib.pyplot as plt\n",
    "%matplotlib inline\n",
    "\n",
    "point_burners=[]\n",
    "d = json.loads(requests.get('https://fantasy.premierleague.com/drf/leagues-classic-standings/231600').text)\n",
    "df = json_normalize(d['standings'], 'results')\n",
    "for index,row in (df.iterrows()):\n",
    "    transfer_cost=0\n",
    "    d = json.loads(requests.get('https://fantasy.premierleague.com/drf/entry/' + str(row['entry']) + '/history').text)\n",
    "    df1 = json_normalize(d['history'])\n",
    "    for index,nrow in (df1.iterrows()):\n",
    "        transfer_cost = nrow['points_on_bench'] + transfer_cost\n",
    "    point_burners.append({'Owner': row['player_name'], 'Points Burned': transfer_cost})\n",
    "\n",
    "dfpb=pd.DataFrame(point_burners)\n",
    "dfpb_sorted=dfpb.sort_values('Owner')\n",
    "x=plt.figure(figsize=(12, 8))\n",
    "x=fig=dfpb_sorted.plot(kind='barh',x='Owner')\n",
    "x=fig.set_title('Blackhorse IT: Points Left On The Bench')\n",
    "x=fig.set_ylabel('Manager')"
   ]
  },
  {
   "cell_type": "code",
   "execution_count": null,
   "metadata": {},
   "outputs": [],
   "source": [
    "\n",
    "Captain points\n",
    "Most popular players\n",
    "Most popular teams\n"
   ]
  }
 ],
 "metadata": {
  "kernelspec": {
   "display_name": "Python 3",
   "language": "python",
   "name": "python3"
  },
  "language_info": {
   "codemirror_mode": {
    "name": "ipython",
    "version": 3
   },
   "file_extension": ".py",
   "mimetype": "text/x-python",
   "name": "python",
   "nbconvert_exporter": "python",
   "pygments_lexer": "ipython3",
   "version": "3.6.5"
  }
 },
 "nbformat": 4,
 "nbformat_minor": 2
}
